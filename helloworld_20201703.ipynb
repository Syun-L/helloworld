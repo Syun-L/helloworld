{
  "nbformat": 4,
  "nbformat_minor": 0,
  "metadata": {
    "colab": {
      "name": "helloworld.ipynb",
      "provenance": []
    },
    "kernelspec": {
      "name": "python3",
      "display_name": "Python 3"
    }
  },
  "cells": [
    {
      "cell_type": "code",
      "metadata": {
        "id": "cqtp_TTauiy2"
      },
      "source": [
        "print(\"hello world_20201703\")"
      ],
      "execution_count": null,
      "outputs": []
    }
  ]
}